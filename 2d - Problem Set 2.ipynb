{
 "cells": [
  {
   "cell_type": "markdown",
   "metadata": {},
   "source": [
    "# Session 2 - Practice Exercises\n",
    "\n",
    "Pride rock is doing energy efficiency. Five participating residents installed energy efficient lighting between 2018 and 2019. We want to see if the lighting had any impact on energy consumption."
   ]
  },
  {
   "cell_type": "code",
   "execution_count": 1,
   "metadata": {},
   "outputs": [],
   "source": [
    "import numpy as np\n",
    "\n",
    "# Metered consumption, for each participant, in 2018\n",
    "simba_2018  = [402,    623,    628,    628,    575,    260,    549,    220,    589,    298,    419,    263]\n",
    "scar_2018   = [325,    407,    231,    472,    446,    322,    588,    476,    298,    680,    432,    435]\n",
    "nola_2018   = [445,    661,    558,    408,    251,    225,    478,    269,    305,    450,    459,    356]\n",
    "mufasa_2018 = [331,    563,    522,    461,    690,    654,    485,    439,    342,    508,    648,    414]\n",
    "zazu_2018   = [301,    315,    591,    526,    474,    391,    472,    474,    285,    488,    273,    659]\n",
    "\n",
    "\n",
    "consumption_2018 = np.array([simba_2018, scar_2018, nola_2018, mufasa_2018, zazu_2018])\n",
    "\n",
    "\n",
    "# Metered consumption, for each participant, in 2019\n",
    "simba_2019  = [550,    352,    383,    587,    284,    517,    640,    516,    700,    372,    285,    683]\n",
    "scar_2019   = [487,    587,    653,    590,    626,    613,    670,    249,    331,    644,    229,    674]\n",
    "nola_2019   = [295,    254,    618,    400,    220,    212,    463,    296,    225,    531,    642,    627]\n",
    "mufasa_2019 = [558,    614,    427,    594,    628,    622,    288,    288,    288,    335,    518,    263]\n",
    "zazu_2019   = [236,    332,    468,    635,    330,    485,    368,    375,    614,    434,    280,    222]\n",
    "\n",
    "\n",
    "consumption_2019 = np.array([simba_2019, scar_2019, nola_2019, mufasa_2019, zazu_2019])"
   ]
  },
  {
   "cell_type": "markdown",
   "metadata": {},
   "source": [
    "$\\color{blue}{\\textit Question 1:}$ What was the average monthly consumption in 2018 for each participant?"
   ]
  },
  {
   "cell_type": "code",
   "execution_count": 4,
   "metadata": {
    "collapsed": true
   },
   "outputs": [
    {
     "name": "stdout",
     "output_type": "stream",
     "text": [
      "Requirement already satisfied: datascience in c:\\users\\josstj\\anaconda3\\lib\\site-packages (0.15.4)\n",
      "Requirement already satisfied: setuptools in c:\\users\\josstj\\anaconda3\\lib\\site-packages (from datascience) (45.2.0.post20200210)\n",
      "Requirement already satisfied: scipy in c:\\users\\josstj\\anaconda3\\lib\\site-packages (from datascience) (1.4.1)\n",
      "Requirement already satisfied: pandas in c:\\users\\josstj\\anaconda3\\lib\\site-packages (from datascience) (1.0.1)\n",
      "Requirement already satisfied: matplotlib>=3.0.0 in c:\\users\\josstj\\anaconda3\\lib\\site-packages (from datascience) (3.1.3)\n",
      "Requirement already satisfied: sphinx in c:\\users\\josstj\\anaconda3\\lib\\site-packages (from datascience) (2.4.0)\n",
      "Requirement already satisfied: ipython in c:\\users\\josstj\\anaconda3\\lib\\site-packages (from datascience) (7.12.0)\n",
      "Requirement already satisfied: bokeh in c:\\users\\josstj\\anaconda3\\lib\\site-packages (from datascience) (1.4.0)\n",
      "Requirement already satisfied: numpy in c:\\users\\josstj\\anaconda3\\lib\\site-packages (from datascience) (1.18.1)\n",
      "Requirement already satisfied: coverage in c:\\users\\josstj\\anaconda3\\lib\\site-packages (from datascience) (5.1)\n",
      "Requirement already satisfied: folium>=0.9.1 in c:\\users\\josstj\\anaconda3\\lib\\site-packages (from datascience) (0.10.1)\n",
      "Requirement already satisfied: pytest in c:\\users\\josstj\\anaconda3\\lib\\site-packages (from datascience) (5.3.5)\n",
      "Requirement already satisfied: coveralls in c:\\users\\josstj\\anaconda3\\lib\\site-packages (from datascience) (2.0.0)\n",
      "Requirement already satisfied: pytz>=2017.2 in c:\\users\\josstj\\anaconda3\\lib\\site-packages (from pandas->datascience) (2019.3)\n",
      "Requirement already satisfied: python-dateutil>=2.6.1 in c:\\users\\josstj\\anaconda3\\lib\\site-packages (from pandas->datascience) (2.8.1)\n",
      "Requirement already satisfied: cycler>=0.10 in c:\\users\\josstj\\anaconda3\\lib\\site-packages (from matplotlib>=3.0.0->datascience) (0.10.0)\n",
      "Requirement already satisfied: pyparsing!=2.0.4,!=2.1.2,!=2.1.6,>=2.0.1 in c:\\users\\josstj\\anaconda3\\lib\\site-packages (from matplotlib>=3.0.0->datascience) (2.4.6)\n",
      "Requirement already satisfied: kiwisolver>=1.0.1 in c:\\users\\josstj\\anaconda3\\lib\\site-packages (from matplotlib>=3.0.0->datascience) (1.1.0)\n",
      "Requirement already satisfied: sphinxcontrib-jsmath in c:\\users\\josstj\\anaconda3\\lib\\site-packages (from sphinx->datascience) (1.0.1)\n",
      "Requirement already satisfied: Pygments>=2.0 in c:\\users\\josstj\\anaconda3\\lib\\site-packages (from sphinx->datascience) (2.5.2)\n",
      "Requirement already satisfied: Jinja2>=2.3 in c:\\users\\josstj\\anaconda3\\lib\\site-packages (from sphinx->datascience) (2.11.1)\n",
      "Requirement already satisfied: packaging in c:\\users\\josstj\\anaconda3\\lib\\site-packages (from sphinx->datascience) (20.1)\n",
      "Requirement already satisfied: sphinxcontrib-devhelp in c:\\users\\josstj\\anaconda3\\lib\\site-packages (from sphinx->datascience) (1.0.1)\n",
      "Requirement already satisfied: docutils>=0.12 in c:\\users\\josstj\\anaconda3\\lib\\site-packages (from sphinx->datascience) (0.16)\n",
      "Requirement already satisfied: babel!=2.0,>=1.3 in c:\\users\\josstj\\anaconda3\\lib\\site-packages (from sphinx->datascience) (2.8.0)\n",
      "Requirement already satisfied: imagesize in c:\\users\\josstj\\anaconda3\\lib\\site-packages (from sphinx->datascience) (1.2.0)\n",
      "Requirement already satisfied: sphinxcontrib-serializinghtml in c:\\users\\josstj\\anaconda3\\lib\\site-packages (from sphinx->datascience) (1.1.3)\n",
      "Requirement already satisfied: sphinxcontrib-htmlhelp in c:\\users\\josstj\\anaconda3\\lib\\site-packages (from sphinx->datascience) (1.0.2)\n",
      "Requirement already satisfied: sphinxcontrib-qthelp in c:\\users\\josstj\\anaconda3\\lib\\site-packages (from sphinx->datascience) (1.0.2)\n",
      "Requirement already satisfied: requests>=2.5.0 in c:\\users\\josstj\\anaconda3\\lib\\site-packages (from sphinx->datascience) (2.22.0)\n",
      "Requirement already satisfied: alabaster<0.8,>=0.7 in c:\\users\\josstj\\anaconda3\\lib\\site-packages (from sphinx->datascience) (0.7.12)\n",
      "Requirement already satisfied: snowballstemmer>=1.1 in c:\\users\\josstj\\anaconda3\\lib\\site-packages (from sphinx->datascience) (2.0.0)\n",
      "Requirement already satisfied: colorama>=0.3.5; sys_platform == \"win32\" in c:\\users\\josstj\\anaconda3\\lib\\site-packages (from sphinx->datascience) (0.4.3)\n",
      "Requirement already satisfied: sphinxcontrib-applehelp in c:\\users\\josstj\\anaconda3\\lib\\site-packages (from sphinx->datascience) (1.0.1)\n",
      "Requirement already satisfied: decorator in c:\\users\\josstj\\anaconda3\\lib\\site-packages (from ipython->datascience) (4.4.1)\n",
      "Requirement already satisfied: traitlets>=4.2 in c:\\users\\josstj\\anaconda3\\lib\\site-packages (from ipython->datascience) (4.3.3)\n",
      "Requirement already satisfied: backcall in c:\\users\\josstj\\anaconda3\\lib\\site-packages (from ipython->datascience) (0.1.0)\n",
      "Requirement already satisfied: pickleshare in c:\\users\\josstj\\anaconda3\\lib\\site-packages (from ipython->datascience) (0.7.5)\n",
      "Requirement already satisfied: prompt-toolkit!=3.0.0,!=3.0.1,<3.1.0,>=2.0.0 in c:\\users\\josstj\\anaconda3\\lib\\site-packages (from ipython->datascience) (3.0.3)\n",
      "Requirement already satisfied: jedi>=0.10 in c:\\users\\josstj\\anaconda3\\lib\\site-packages (from ipython->datascience) (0.14.1)\n",
      "Requirement already satisfied: pillow>=4.0 in c:\\users\\josstj\\anaconda3\\lib\\site-packages (from bokeh->datascience) (7.0.0)\n",
      "Requirement already satisfied: six>=1.5.2 in c:\\users\\josstj\\anaconda3\\lib\\site-packages (from bokeh->datascience) (1.14.0)\n",
      "Requirement already satisfied: PyYAML>=3.10 in c:\\users\\josstj\\anaconda3\\lib\\site-packages (from bokeh->datascience) (5.3)\n",
      "Requirement already satisfied: tornado>=4.3 in c:\\users\\josstj\\anaconda3\\lib\\site-packages (from bokeh->datascience) (6.0.3)\n",
      "Requirement already satisfied: branca>=0.3.0 in c:\\users\\josstj\\anaconda3\\lib\\site-packages (from folium>=0.9.1->datascience) (0.4.0)\n",
      "Requirement already satisfied: py>=1.5.0 in c:\\users\\josstj\\anaconda3\\lib\\site-packages (from pytest->datascience) (1.8.1)\n",
      "Requirement already satisfied: attrs>=17.4.0 in c:\\users\\josstj\\anaconda3\\lib\\site-packages (from pytest->datascience) (19.3.0)\n",
      "Requirement already satisfied: more-itertools>=4.0.0 in c:\\users\\josstj\\anaconda3\\lib\\site-packages (from pytest->datascience) (8.2.0)\n",
      "Requirement already satisfied: pluggy<1.0,>=0.12 in c:\\users\\josstj\\anaconda3\\lib\\site-packages (from pytest->datascience) (0.13.1)\n",
      "Requirement already satisfied: wcwidth in c:\\users\\josstj\\anaconda3\\lib\\site-packages (from pytest->datascience) (0.1.8)\n",
      "Requirement already satisfied: importlib-metadata>=0.12 in c:\\users\\josstj\\anaconda3\\lib\\site-packages (from pytest->datascience) (1.5.0)\n",
      "Requirement already satisfied: atomicwrites>=1.0 in c:\\users\\josstj\\anaconda3\\lib\\site-packages (from pytest->datascience) (1.3.0)\n",
      "Requirement already satisfied: docopt>=0.6.1 in c:\\users\\josstj\\anaconda3\\lib\\site-packages (from coveralls->datascience) (0.6.2)\n",
      "Requirement already satisfied: MarkupSafe>=0.23 in c:\\users\\josstj\\anaconda3\\lib\\site-packages (from Jinja2>=2.3->sphinx->datascience) (1.1.1)\n",
      "Requirement already satisfied: certifi>=2017.4.17 in c:\\users\\josstj\\anaconda3\\lib\\site-packages (from requests>=2.5.0->sphinx->datascience) (2019.11.28)\n",
      "Requirement already satisfied: chardet<3.1.0,>=3.0.2 in c:\\users\\josstj\\anaconda3\\lib\\site-packages (from requests>=2.5.0->sphinx->datascience) (3.0.4)\n",
      "Requirement already satisfied: urllib3!=1.25.0,!=1.25.1,<1.26,>=1.21.1 in c:\\users\\josstj\\anaconda3\\lib\\site-packages (from requests>=2.5.0->sphinx->datascience) (1.25.8)\n",
      "Requirement already satisfied: idna<2.9,>=2.5 in c:\\users\\josstj\\anaconda3\\lib\\site-packages (from requests>=2.5.0->sphinx->datascience) (2.8)\n",
      "Requirement already satisfied: ipython-genutils in c:\\users\\josstj\\anaconda3\\lib\\site-packages (from traitlets>=4.2->ipython->datascience) (0.2.0)\n",
      "Requirement already satisfied: parso>=0.5.0 in c:\\users\\josstj\\anaconda3\\lib\\site-packages (from jedi>=0.10->ipython->datascience) (0.5.2)\n",
      "Requirement already satisfied: zipp>=0.5 in c:\\users\\josstj\\anaconda3\\lib\\site-packages (from importlib-metadata>=0.12->pytest->datascience) (2.2.0)\n",
      "Note: you may need to restart the kernel to use updated packages.\n"
     ]
    }
   ],
   "source": [
    "pip install datascience;\n"
   ]
  },
  {
   "cell_type": "code",
   "execution_count": 44,
   "metadata": {},
   "outputs": [
    {
     "data": {
      "text/html": [
       "<table border=\"1\" class=\"dataframe\">\n",
       "    <thead>\n",
       "        <tr>\n",
       "            <th>simba_2018</th> <th>scar_2018</th> <th>nola_2018</th> <th>mufasa_2018</th> <th>zazu_2018</th>\n",
       "        </tr>\n",
       "    </thead>\n",
       "    <tbody>\n",
       "        <tr>\n",
       "            <td>454.5     </td> <td>426      </td> <td>405.417  </td> <td>504.75     </td> <td>437.417  </td>\n",
       "        </tr>\n",
       "    </tbody>\n",
       "</table>"
      ],
      "text/plain": [
       "simba_2018 | scar_2018 | nola_2018 | mufasa_2018 | zazu_2018\n",
       "454.5      | 426       | 405.417   | 504.75      | 437.417"
      ]
     },
     "execution_count": 44,
     "metadata": {},
     "output_type": "execute_result"
    }
   ],
   "source": [
    "from datascience import *\n",
    "\n",
    "consumption_2018 =  Table().with_columns('simba_2018',simba_2018,'scar_2018',scar_2018,'nola_2018',nola_2018,'mufasa_2018',mufasa_2018,'zazu_2018',zazu_2018)\n",
    "consumption_2018\n",
    "\n",
    "np.mean(consumption_2018)\n"
   ]
  },
  {
   "cell_type": "markdown",
   "metadata": {},
   "source": [
    "$\\color{blue}{\\textit Question 2:}$ What was the average monthly consumption in 2019 for each participant?"
   ]
  },
  {
   "cell_type": "code",
   "execution_count": 45,
   "metadata": {},
   "outputs": [
    {
     "data": {
      "text/html": [
       "<table border=\"1\" class=\"dataframe\">\n",
       "    <thead>\n",
       "        <tr>\n",
       "            <th>simba_2019</th> <th>scar_2019</th> <th>nola_2019</th> <th>mufasa_2019</th> <th>zazu_2019</th>\n",
       "        </tr>\n",
       "    </thead>\n",
       "    <tbody>\n",
       "        <tr>\n",
       "            <td>489.083   </td> <td>529.417  </td> <td>398.583  </td> <td>451.917    </td> <td>398.25   </td>\n",
       "        </tr>\n",
       "    </tbody>\n",
       "</table>"
      ],
      "text/plain": [
       "simba_2019 | scar_2019 | nola_2019 | mufasa_2019 | zazu_2019\n",
       "489.083    | 529.417   | 398.583   | 451.917     | 398.25"
      ]
     },
     "execution_count": 45,
     "metadata": {},
     "output_type": "execute_result"
    }
   ],
   "source": [
    "#################\n",
    "consumption_2019 =  Table().with_columns('simba_2019',simba_2019,'scar_2019',scar_2019,'nola_2019',nola_2019,'mufasa_2019',mufasa_2019,'zazu_2019',zazu_2019)\n",
    "consumption_2019\n",
    "\n",
    "np.mean(consumption_2019)\n",
    "#################"
   ]
  },
  {
   "cell_type": "markdown",
   "metadata": {},
   "source": [
    "$\\color{blue}{\\textit Question 3:}$ What was the annual consumption, in 2018, and 2019, for each participant?"
   ]
  },
  {
   "cell_type": "code",
   "execution_count": 53,
   "metadata": {},
   "outputs": [
    {
     "data": {
      "text/html": [
       "<table border=\"1\" class=\"dataframe\">\n",
       "    <thead>\n",
       "        <tr>\n",
       "            <th>simba_2018</th> <th>scar_2018</th> <th>nola_2018</th> <th>mufasa_2018</th> <th>zazu_2018</th>\n",
       "        </tr>\n",
       "    </thead>\n",
       "    <tbody>\n",
       "        <tr>\n",
       "            <td>5454      </td> <td>5112     </td> <td>4865     </td> <td>6057       </td> <td>5249     </td>\n",
       "        </tr>\n",
       "    </tbody>\n",
       "</table>"
      ],
      "text/plain": [
       "simba_2018 | scar_2018 | nola_2018 | mufasa_2018 | zazu_2018\n",
       "5454       | 5112      | 4865      | 6057        | 5249"
      ]
     },
     "execution_count": 53,
     "metadata": {},
     "output_type": "execute_result"
    }
   ],
   "source": [
    "#################\n",
    "import pandas as pd\n",
    "\n",
    "sum_2018 = np.sum(consumption_2018)\n",
    "sum_2019 = np.sum(consumption_2019)\n",
    "sum_2018\n"
   ]
  },
  {
   "cell_type": "code",
   "execution_count": 54,
   "metadata": {},
   "outputs": [
    {
     "data": {
      "text/html": [
       "<table border=\"1\" class=\"dataframe\">\n",
       "    <thead>\n",
       "        <tr>\n",
       "            <th>simba_2019</th> <th>scar_2019</th> <th>nola_2019</th> <th>mufasa_2019</th> <th>zazu_2019</th>\n",
       "        </tr>\n",
       "    </thead>\n",
       "    <tbody>\n",
       "        <tr>\n",
       "            <td>5869      </td> <td>6353     </td> <td>4783     </td> <td>5423       </td> <td>4779     </td>\n",
       "        </tr>\n",
       "    </tbody>\n",
       "</table>"
      ],
      "text/plain": [
       "simba_2019 | scar_2019 | nola_2019 | mufasa_2019 | zazu_2019\n",
       "5869       | 6353      | 4783      | 5423        | 4779"
      ]
     },
     "execution_count": 54,
     "metadata": {},
     "output_type": "execute_result"
    }
   ],
   "source": [
    "sum_2019"
   ]
  },
  {
   "cell_type": "markdown",
   "metadata": {},
   "source": [
    "# Normalize for weather\n",
    "\n",
    "Let's normalize the consumption data for the effects of weather. One way to do this is by using degree-days. Degree-days are a way to measure the heating/cooling load for a location. One degree-day is a day which the temperature was 1 degree higher, or lower, than 65 degrees Farenheit (room temperature). Below we have two arrays with the monthly degree-days in 2018, and 2019.\n",
    "\n",
    "To normalize for weather, we will divide the monthly consumption by the monthly degree-days.\n",
    "\n",
    "$$ normalizedKWH = \\frac{kWh}{degreeDays} $$"
   ]
  },
  {
   "cell_type": "code",
   "execution_count": 55,
   "metadata": {},
   "outputs": [],
   "source": [
    "# Monthly degree-days for Pride Rock, in 2018\n",
    "dd_2018 = np.array([200,    448,    194,    179,    401,    468,    334,    252,    352,    103,    357,    330])\n",
    "\n",
    "# Monthly degree-days for Pride Rock, in 2019\n",
    "dd_2019 = np.array([286,    414,    307,    116,    336,    265,    365,    268,    194,    461,    220,    209])"
   ]
  },
  {
   "cell_type": "markdown",
   "metadata": {},
   "source": [
    "$\\color{blue}{\\textit Question 4:}$ Normalize the 2018 consumption for all participants."
   ]
  },
  {
   "cell_type": "code",
   "execution_count": 72,
   "metadata": {},
   "outputs": [
    {
     "data": {
      "text/html": [
       "<table border=\"1\" class=\"dataframe\">\n",
       "    <thead>\n",
       "        <tr>\n",
       "            <th>simba</th> <th>scar</th> <th>nola</th> <th>mufasa</th> <th>zazu</th>\n",
       "        </tr>\n",
       "    </thead>\n",
       "    <tbody>\n",
       "        <tr>\n",
       "            <td>2.01    </td> <td>1.625   </td> <td>2.225   </td> <td>1.655   </td> <td>1.505   </td>\n",
       "        </tr>\n",
       "        <tr>\n",
       "            <td>1.39062 </td> <td>0.908482</td> <td>1.47545 </td> <td>1.2567  </td> <td>0.703125</td>\n",
       "        </tr>\n",
       "        <tr>\n",
       "            <td>3.23711 </td> <td>1.19072 </td> <td>2.87629 </td> <td>2.69072 </td> <td>3.04639 </td>\n",
       "        </tr>\n",
       "        <tr>\n",
       "            <td>3.50838 </td> <td>2.63687 </td> <td>2.27933 </td> <td>2.57542 </td> <td>2.93855 </td>\n",
       "        </tr>\n",
       "        <tr>\n",
       "            <td>1.43392 </td> <td>1.11222 </td> <td>0.625935</td> <td>1.7207  </td> <td>1.18204 </td>\n",
       "        </tr>\n",
       "        <tr>\n",
       "            <td>0.555556</td> <td>0.688034</td> <td>0.480769</td> <td>1.39744 </td> <td>0.83547 </td>\n",
       "        </tr>\n",
       "        <tr>\n",
       "            <td>1.64371 </td> <td>1.76048 </td> <td>1.43114 </td> <td>1.4521  </td> <td>1.41317 </td>\n",
       "        </tr>\n",
       "        <tr>\n",
       "            <td>0.873016</td> <td>1.88889 </td> <td>1.06746 </td> <td>1.74206 </td> <td>1.88095 </td>\n",
       "        </tr>\n",
       "        <tr>\n",
       "            <td>1.6733  </td> <td>0.846591</td> <td>0.866477</td> <td>0.971591</td> <td>0.809659</td>\n",
       "        </tr>\n",
       "        <tr>\n",
       "            <td>2.8932  </td> <td>6.60194 </td> <td>4.36893 </td> <td>4.93204 </td> <td>4.73786 </td>\n",
       "        </tr>\n",
       "    </tbody>\n",
       "</table>\n",
       "<p>... (2 rows omitted)</p>"
      ],
      "text/plain": [
       "simba    | scar     | nola     | mufasa   | zazu\n",
       "2.01     | 1.625    | 2.225    | 1.655    | 1.505\n",
       "1.39062  | 0.908482 | 1.47545  | 1.2567   | 0.703125\n",
       "3.23711  | 1.19072  | 2.87629  | 2.69072  | 3.04639\n",
       "3.50838  | 2.63687  | 2.27933  | 2.57542  | 2.93855\n",
       "1.43392  | 1.11222  | 0.625935 | 1.7207   | 1.18204\n",
       "0.555556 | 0.688034 | 0.480769 | 1.39744  | 0.83547\n",
       "1.64371  | 1.76048  | 1.43114  | 1.4521   | 1.41317\n",
       "0.873016 | 1.88889  | 1.06746  | 1.74206  | 1.88095\n",
       "1.6733   | 0.846591 | 0.866477 | 0.971591 | 0.809659\n",
       "2.8932   | 6.60194  | 4.36893  | 4.93204  | 4.73786\n",
       "... (2 rows omitted)"
      ]
     },
     "execution_count": 72,
     "metadata": {},
     "output_type": "execute_result"
    }
   ],
   "source": [
    "#################\n",
    "consumption_2018v2 = np.array([simba_2018, scar_2018, nola_2018, mufasa_2018, zazu_2018])\n",
    "\n",
    "normalized_2018 = consumption_2018v2/dd_2018\n",
    "simba = normalized_2018[0]\n",
    "scar= normalized_2018[1]\n",
    "nola= normalized_2018[2]\n",
    "mufasa= normalized_2018[3]\n",
    "zazu= normalized_2018[4]\n",
    "\n",
    "normalized_2018 =  Table().with_columns('simba',simba,'scar',scar,'nola',nola,'mufasa',mufasa,'zazu',zazu)\n",
    "normalized_2018\n",
    "\n"
   ]
  },
  {
   "cell_type": "markdown",
   "metadata": {},
   "source": [
    "$\\color{blue}{\\textit Question 5:}$ Normalize the 2019 consumption for all participants."
   ]
  },
  {
   "cell_type": "code",
   "execution_count": 74,
   "metadata": {},
   "outputs": [
    {
     "data": {
      "text/html": [
       "<table border=\"1\" class=\"dataframe\">\n",
       "    <thead>\n",
       "        <tr>\n",
       "            <th>simba</th> <th>scar</th> <th>nola</th> <th>mufasa</th> <th>zazu</th>\n",
       "        </tr>\n",
       "    </thead>\n",
       "    <tbody>\n",
       "        <tr>\n",
       "            <td>1.92308 </td> <td>1.7028  </td> <td>1.03147 </td> <td>1.95105 </td> <td>0.825175</td>\n",
       "        </tr>\n",
       "        <tr>\n",
       "            <td>0.850242</td> <td>1.41787 </td> <td>0.613527</td> <td>1.48309 </td> <td>0.801932</td>\n",
       "        </tr>\n",
       "        <tr>\n",
       "            <td>1.24756 </td> <td>2.12704 </td> <td>2.01303 </td> <td>1.39088 </td> <td>1.52443 </td>\n",
       "        </tr>\n",
       "        <tr>\n",
       "            <td>5.06034 </td> <td>5.08621 </td> <td>3.44828 </td> <td>5.12069 </td> <td>5.47414 </td>\n",
       "        </tr>\n",
       "        <tr>\n",
       "            <td>0.845238</td> <td>1.8631  </td> <td>0.654762</td> <td>1.86905 </td> <td>0.982143</td>\n",
       "        </tr>\n",
       "        <tr>\n",
       "            <td>1.95094 </td> <td>2.31321 </td> <td>0.8     </td> <td>2.34717 </td> <td>1.83019 </td>\n",
       "        </tr>\n",
       "        <tr>\n",
       "            <td>1.75342 </td> <td>1.83562 </td> <td>1.26849 </td> <td>0.789041</td> <td>1.00822 </td>\n",
       "        </tr>\n",
       "        <tr>\n",
       "            <td>1.92537 </td> <td>0.929104</td> <td>1.10448 </td> <td>1.07463 </td> <td>1.39925 </td>\n",
       "        </tr>\n",
       "        <tr>\n",
       "            <td>3.60825 </td> <td>1.70619 </td> <td>1.15979 </td> <td>1.48454 </td> <td>3.16495 </td>\n",
       "        </tr>\n",
       "        <tr>\n",
       "            <td>0.806941</td> <td>1.39696 </td> <td>1.15184 </td> <td>0.726681</td> <td>0.941432</td>\n",
       "        </tr>\n",
       "    </tbody>\n",
       "</table>\n",
       "<p>... (2 rows omitted)</p>"
      ],
      "text/plain": [
       "simba    | scar     | nola     | mufasa   | zazu\n",
       "1.92308  | 1.7028   | 1.03147  | 1.95105  | 0.825175\n",
       "0.850242 | 1.41787  | 0.613527 | 1.48309  | 0.801932\n",
       "1.24756  | 2.12704  | 2.01303  | 1.39088  | 1.52443\n",
       "5.06034  | 5.08621  | 3.44828  | 5.12069  | 5.47414\n",
       "0.845238 | 1.8631   | 0.654762 | 1.86905  | 0.982143\n",
       "1.95094  | 2.31321  | 0.8      | 2.34717  | 1.83019\n",
       "1.75342  | 1.83562  | 1.26849  | 0.789041 | 1.00822\n",
       "1.92537  | 0.929104 | 1.10448  | 1.07463  | 1.39925\n",
       "3.60825  | 1.70619  | 1.15979  | 1.48454  | 3.16495\n",
       "0.806941 | 1.39696  | 1.15184  | 0.726681 | 0.941432\n",
       "... (2 rows omitted)"
      ]
     },
     "execution_count": 74,
     "metadata": {},
     "output_type": "execute_result"
    }
   ],
   "source": [
    "#################\n",
    "consumption_2019v2 = np.array([simba_2019, scar_2019, nola_2019, mufasa_2019, zazu_2019])\n",
    "\n",
    "normalized_2019 = consumption_2019v2/dd_2019\n",
    "simba = normalized_2019[0]\n",
    "scar= normalized_2019[1]\n",
    "nola= normalized_2019[2]\n",
    "mufasa= normalized_2019[3]\n",
    "zazu= normalized_2019[4]\n",
    "\n",
    "normalized_2019 =  Table().with_columns('simba',simba,'scar',scar,'nola',nola,'mufasa',mufasa,'zazu',zazu)\n",
    "normalized_2019\n",
    "#################"
   ]
  },
  {
   "cell_type": "code",
   "execution_count": null,
   "metadata": {},
   "outputs": [],
   "source": []
  }
 ],
 "metadata": {
  "kernelspec": {
   "display_name": "Python 3",
   "language": "python",
   "name": "python3"
  },
  "language_info": {
   "codemirror_mode": {
    "name": "ipython",
    "version": 3
   },
   "file_extension": ".py",
   "mimetype": "text/x-python",
   "name": "python",
   "nbconvert_exporter": "python",
   "pygments_lexer": "ipython3",
   "version": "3.7.6"
  }
 },
 "nbformat": 4,
 "nbformat_minor": 4
}
