{
 "cells": [
  {
   "cell_type": "markdown",
   "metadata": {},
   "source": [
    "# Exercise 1\n",
    "`list_of_nouns` is a list of 50 words, selected at random from a magazine."
   ]
  },
  {
   "cell_type": "code",
   "execution_count": 2,
   "metadata": {},
   "outputs": [
    {
     "name": "stdout",
     "output_type": "stream",
     "text": [
      "Number of words :  50\n"
     ]
    }
   ],
   "source": [
    "# This is a list of 50 nouns\n",
    "\n",
    "list_of_nouns = ['people','history','way','art','world','information','map','family','swim','train','upper','wash','yellow',\n",
    "                 'convert','crash','dependent','fold','funny','grab','hide','miss','permit','quote','recover','resolve','roll',\n",
    "                 'sink','slip','spare','suspect','sweet','swing','twist','upstairs','usual','abroad','brave','calm',\n",
    "                 'concentrate','estimate','grand','male','mine','prompt','quiet','refuse','responsibility','situation','skill',\n",
    "                 'wealth']\n",
    "\n",
    "print(\"Number of words : \", len(list_of_nouns))"
   ]
  },
  {
   "cell_type": "markdown",
   "metadata": {},
   "source": [
    "$\\color{blue}{\\textit Question 1:}$ How many 5 digit words are in `list_of_nouns`?"
   ]
  },
  {
   "cell_type": "code",
   "execution_count": 15,
   "metadata": {},
   "outputs": [
    {
     "name": "stdout",
     "output_type": "stream",
     "text": [
      "Requirement already satisfied: datascience in c:\\users\\josstj\\anaconda3\\lib\\site-packages (0.15.4)\n",
      "Requirement already satisfied: sphinx in c:\\users\\josstj\\anaconda3\\lib\\site-packages (from datascience) (2.4.0)\n",
      "Requirement already satisfied: matplotlib>=3.0.0 in c:\\users\\josstj\\anaconda3\\lib\\site-packages (from datascience) (3.1.3)\n",
      "Requirement already satisfied: folium>=0.9.1 in c:\\users\\josstj\\anaconda3\\lib\\site-packages (from datascience) (0.10.1)\n",
      "Requirement already satisfied: coverage in c:\\users\\josstj\\anaconda3\\lib\\site-packages (from datascience) (5.1)\n",
      "Requirement already satisfied: pytest in c:\\users\\josstj\\anaconda3\\lib\\site-packages (from datascience) (5.3.5)\n",
      "Requirement already satisfied: pandas in c:\\users\\josstj\\anaconda3\\lib\\site-packages (from datascience) (1.0.1)\n",
      "Requirement already satisfied: setuptools in c:\\users\\josstj\\anaconda3\\lib\\site-packages (from datascience) (45.2.0.post20200210)\n",
      "Requirement already satisfied: ipython in c:\\users\\josstj\\anaconda3\\lib\\site-packages (from datascience) (7.12.0)\n",
      "Requirement already satisfied: bokeh in c:\\users\\josstj\\anaconda3\\lib\\site-packages (from datascience) (1.4.0)\n",
      "Requirement already satisfied: scipy in c:\\users\\josstj\\anaconda3\\lib\\site-packages (from datascience) (1.4.1)\n",
      "Requirement already satisfied: coveralls in c:\\users\\josstj\\anaconda3\\lib\\site-packages (from datascience) (2.0.0)\n",
      "Requirement already satisfied: numpy in c:\\users\\josstj\\anaconda3\\lib\\site-packages (from datascience) (1.18.1)\n",
      "Requirement already satisfied: docutils>=0.12 in c:\\users\\josstj\\anaconda3\\lib\\site-packages (from sphinx->datascience) (0.16)\n",
      "Requirement already satisfied: Jinja2>=2.3 in c:\\users\\josstj\\anaconda3\\lib\\site-packages (from sphinx->datascience) (2.11.1)\n",
      "Requirement already satisfied: snowballstemmer>=1.1 in c:\\users\\josstj\\anaconda3\\lib\\site-packages (from sphinx->datascience) (2.0.0)\n",
      "Requirement already satisfied: sphinxcontrib-htmlhelp in c:\\users\\josstj\\anaconda3\\lib\\site-packages (from sphinx->datascience) (1.0.2)\n",
      "Requirement already satisfied: babel!=2.0,>=1.3 in c:\\users\\josstj\\anaconda3\\lib\\site-packages (from sphinx->datascience) (2.8.0)\n",
      "Requirement already satisfied: imagesize in c:\\users\\josstj\\anaconda3\\lib\\site-packages (from sphinx->datascience) (1.2.0)\n",
      "Requirement already satisfied: sphinxcontrib-devhelp in c:\\users\\josstj\\anaconda3\\lib\\site-packages (from sphinx->datascience) (1.0.1)\n",
      "Requirement already satisfied: requests>=2.5.0 in c:\\users\\josstj\\anaconda3\\lib\\site-packages (from sphinx->datascience) (2.22.0)\n",
      "Requirement already satisfied: sphinxcontrib-applehelp in c:\\users\\josstj\\anaconda3\\lib\\site-packages (from sphinx->datascience) (1.0.1)\n",
      "Requirement already satisfied: Pygments>=2.0 in c:\\users\\josstj\\anaconda3\\lib\\site-packages (from sphinx->datascience) (2.5.2)\n",
      "Requirement already satisfied: sphinxcontrib-serializinghtml in c:\\users\\josstj\\anaconda3\\lib\\site-packages (from sphinx->datascience) (1.1.3)\n",
      "Requirement already satisfied: sphinxcontrib-jsmath in c:\\users\\josstj\\anaconda3\\lib\\site-packages (from sphinx->datascience) (1.0.1)\n",
      "Requirement already satisfied: alabaster<0.8,>=0.7 in c:\\users\\josstj\\anaconda3\\lib\\site-packages (from sphinx->datascience) (0.7.12)\n",
      "Requirement already satisfied: sphinxcontrib-qthelp in c:\\users\\josstj\\anaconda3\\lib\\site-packages (from sphinx->datascience) (1.0.2)\n",
      "Requirement already satisfied: colorama>=0.3.5; sys_platform == \"win32\" in c:\\users\\josstj\\anaconda3\\lib\\site-packages (from sphinx->datascience) (0.4.3)\n",
      "Requirement already satisfied: packaging in c:\\users\\josstj\\anaconda3\\lib\\site-packages (from sphinx->datascience) (20.1)\n",
      "Requirement already satisfied: kiwisolver>=1.0.1 in c:\\users\\josstj\\anaconda3\\lib\\site-packages (from matplotlib>=3.0.0->datascience) (1.1.0)\n",
      "Requirement already satisfied: pyparsing!=2.0.4,!=2.1.2,!=2.1.6,>=2.0.1 in c:\\users\\josstj\\anaconda3\\lib\\site-packages (from matplotlib>=3.0.0->datascience) (2.4.6)\n",
      "Requirement already satisfied: python-dateutil>=2.1 in c:\\users\\josstj\\anaconda3\\lib\\site-packages (from matplotlib>=3.0.0->datascience) (2.8.1)\n",
      "Requirement already satisfied: cycler>=0.10 in c:\\users\\josstj\\anaconda3\\lib\\site-packages (from matplotlib>=3.0.0->datascience) (0.10.0)\n",
      "Requirement already satisfied: branca>=0.3.0 in c:\\users\\josstj\\anaconda3\\lib\\site-packages (from folium>=0.9.1->datascience) (0.4.0)\n",
      "Requirement already satisfied: py>=1.5.0 in c:\\users\\josstj\\anaconda3\\lib\\site-packages (from pytest->datascience) (1.8.1)\n",
      "Requirement already satisfied: attrs>=17.4.0 in c:\\users\\josstj\\anaconda3\\lib\\site-packages (from pytest->datascience) (19.3.0)\n",
      "Requirement already satisfied: more-itertools>=4.0.0 in c:\\users\\josstj\\anaconda3\\lib\\site-packages (from pytest->datascience) (8.2.0)\n",
      "Requirement already satisfied: pluggy<1.0,>=0.12 in c:\\users\\josstj\\anaconda3\\lib\\site-packages (from pytest->datascience) (0.13.1)\n",
      "Requirement already satisfied: wcwidth in c:\\users\\josstj\\anaconda3\\lib\\site-packages (from pytest->datascience) (0.1.8)\n",
      "Requirement already satisfied: importlib-metadata>=0.12 in c:\\users\\josstj\\anaconda3\\lib\\site-packages (from pytest->datascience) (1.5.0)\n",
      "Requirement already satisfied: atomicwrites>=1.0 in c:\\users\\josstj\\anaconda3\\lib\\site-packages (from pytest->datascience) (1.3.0)\n",
      "Requirement already satisfied: pytz>=2017.2 in c:\\users\\josstj\\anaconda3\\lib\\site-packages (from pandas->datascience) (2019.3)\n",
      "Requirement already satisfied: jedi>=0.10 in c:\\users\\josstj\\anaconda3\\lib\\site-packages (from ipython->datascience) (0.14.1)\n",
      "Requirement already satisfied: backcall in c:\\users\\josstj\\anaconda3\\lib\\site-packages (from ipython->datascience) (0.1.0)\n",
      "Requirement already satisfied: pickleshare in c:\\users\\josstj\\anaconda3\\lib\\site-packages (from ipython->datascience) (0.7.5)\n",
      "Requirement already satisfied: decorator in c:\\users\\josstj\\anaconda3\\lib\\site-packages (from ipython->datascience) (4.4.1)\n",
      "Requirement already satisfied: prompt-toolkit!=3.0.0,!=3.0.1,<3.1.0,>=2.0.0 in c:\\users\\josstj\\anaconda3\\lib\\site-packages (from ipython->datascience) (3.0.3)\n",
      "Requirement already satisfied: traitlets>=4.2 in c:\\users\\josstj\\anaconda3\\lib\\site-packages (from ipython->datascience) (4.3.3)\n",
      "Requirement already satisfied: PyYAML>=3.10 in c:\\users\\josstj\\anaconda3\\lib\\site-packages (from bokeh->datascience) (5.3)\n",
      "Requirement already satisfied: pillow>=4.0 in c:\\users\\josstj\\anaconda3\\lib\\site-packages (from bokeh->datascience) (7.0.0)\n",
      "Requirement already satisfied: six>=1.5.2 in c:\\users\\josstj\\anaconda3\\lib\\site-packages (from bokeh->datascience) (1.14.0)\n",
      "Requirement already satisfied: tornado>=4.3 in c:\\users\\josstj\\anaconda3\\lib\\site-packages (from bokeh->datascience) (6.0.3)\n",
      "Requirement already satisfied: docopt>=0.6.1 in c:\\users\\josstj\\anaconda3\\lib\\site-packages (from coveralls->datascience) (0.6.2)\n",
      "Requirement already satisfied: MarkupSafe>=0.23 in c:\\users\\josstj\\anaconda3\\lib\\site-packages (from Jinja2>=2.3->sphinx->datascience) (1.1.1)\n",
      "Requirement already satisfied: idna<2.9,>=2.5 in c:\\users\\josstj\\anaconda3\\lib\\site-packages (from requests>=2.5.0->sphinx->datascience) (2.8)\n",
      "Requirement already satisfied: certifi>=2017.4.17 in c:\\users\\josstj\\anaconda3\\lib\\site-packages (from requests>=2.5.0->sphinx->datascience) (2019.11.28)\n",
      "Requirement already satisfied: chardet<3.1.0,>=3.0.2 in c:\\users\\josstj\\anaconda3\\lib\\site-packages (from requests>=2.5.0->sphinx->datascience) (3.0.4)\n",
      "Requirement already satisfied: urllib3!=1.25.0,!=1.25.1,<1.26,>=1.21.1 in c:\\users\\josstj\\anaconda3\\lib\\site-packages (from requests>=2.5.0->sphinx->datascience) (1.25.8)\n",
      "Requirement already satisfied: zipp>=0.5 in c:\\users\\josstj\\anaconda3\\lib\\site-packages (from importlib-metadata>=0.12->pytest->datascience) (2.2.0)\n",
      "Requirement already satisfied: parso>=0.5.0 in c:\\users\\josstj\\anaconda3\\lib\\site-packages (from jedi>=0.10->ipython->datascience) (0.5.2)\n",
      "Requirement already satisfied: ipython-genutils in c:\\users\\josstj\\anaconda3\\lib\\site-packages (from traitlets>=4.2->ipython->datascience) (0.2.0)\n",
      "Note: you may need to restart the kernel to use updated packages.\n"
     ]
    }
   ],
   "source": [
    "pip install datascience"
   ]
  },
  {
   "cell_type": "code",
   "execution_count": 61,
   "metadata": {},
   "outputs": [
    {
     "data": {
      "text/plain": [
       "15"
      ]
     },
     "execution_count": 61,
     "metadata": {},
     "output_type": "execute_result"
    }
   ],
   "source": [
    "from datascience import *\n",
    "nouns = Table().with_columns('list of nouns',list_of_nouns)\n",
    "\n",
    "def length1(x):\n",
    "    \n",
    "    return len(x)\n",
    "\n",
    "nouns = nouns.with_column(\n",
    "    'length', nouns.apply(length1, 'list of nouns'))\n",
    "\n",
    "nouns5 = nouns.where('length', are.equal_to(5))\n",
    "\n",
    "nouns5.num_rows"
   ]
  },
  {
   "cell_type": "markdown",
   "metadata": {},
   "source": [
    "$\\color{blue}{\\textit Question 2:}$ How many words begin with the letter <i>m</i>?"
   ]
  },
  {
   "cell_type": "code",
   "execution_count": 66,
   "metadata": {},
   "outputs": [
    {
     "data": {
      "text/plain": [
       "4"
      ]
     },
     "execution_count": 66,
     "metadata": {},
     "output_type": "execute_result"
    }
   ],
   "source": [
    "#################\n",
    "\n",
    "def first1(x):\n",
    "    return x[0]\n",
    "\n",
    "nouns = nouns.with_column('first',nouns.apply(first1,'list of nouns'))\n",
    "\n",
    "nouns_m = nouns.where('first', are.equal_to('m'))\n",
    "\n",
    "nouns_m.num_rows\n",
    "\n",
    "#################"
   ]
  },
  {
   "cell_type": "markdown",
   "metadata": {},
   "source": [
    "# Exercise 2\n",
    "\n",
    "`customer_list` contains the names of 20 residential customers of ABC Energy company. `kWh_list` contains the March energy consumption for each of those 20 customers. The order of the entries in `kWh_list` matches the order of entries in `customer_list`. For example, James consumed 5894.23 kWh in March. That's a lot of kWh, James."
   ]
  },
  {
   "cell_type": "code",
   "execution_count": 72,
   "metadata": {},
   "outputs": [
    {
     "name": "stdout",
     "output_type": "stream",
     "text": [
      "Number of customers : \t\t 20\n",
      "Number of kwh data points : \t 20\n"
     ]
    }
   ],
   "source": [
    "customer_list = ['James','John','Robert','Michael','William','David','Richard','Joseph','Thomas','Charles',\n",
    "             'Linda','Elizabeth','Barbara','Susan','Jessica','Sarah','Karen','Nancy','Margaret','Lisa']\n",
    "\n",
    "\n",
    "kWh_list = [5894.23, 1378.41, 1447.23, 2026.72, 1357.24, 1970.432, 1150.27, 1073.565, 2120.35, 1175.3245,\n",
    "            504.24, 2129.23423, 2780.0, 2239, 1397.13, 1366.231, 625.12, 2481.998, 2211.213, 1083.0]\n",
    "\n",
    "print(\"Number of customers : \\t\\t\", len(customer_list))\n",
    "print(\"Number of kwh data points : \\t\", len(kWh_list))"
   ]
  },
  {
   "cell_type": "markdown",
   "metadata": {},
   "source": [
    "$\\color{blue}{\\textit Question 1:}$ What was the average consumption of these 20 customers in March?"
   ]
  },
  {
   "cell_type": "code",
   "execution_count": 76,
   "metadata": {},
   "outputs": [
    {
     "data": {
      "text/plain": [
       "1820.5468865000003"
      ]
     },
     "execution_count": 76,
     "metadata": {},
     "output_type": "execute_result"
    }
   ],
   "source": [
    "#################\n",
    "sum(kWh_list)/len(kWh_list)\n",
    "#################"
   ]
  },
  {
   "cell_type": "markdown",
   "metadata": {},
   "source": [
    "$\\color{blue}{\\textit Question 2:}$ Which customers consumed less than the average?"
   ]
  },
  {
   "cell_type": "code",
   "execution_count": 83,
   "metadata": {},
   "outputs": [
    {
     "data": {
      "text/html": [
       "<table border=\"1\" class=\"dataframe\">\n",
       "    <thead>\n",
       "        <tr>\n",
       "            <th>customer</th> <th>kWh</th>\n",
       "        </tr>\n",
       "    </thead>\n",
       "    <tbody>\n",
       "        <tr>\n",
       "            <td>John    </td> <td>1378.41</td>\n",
       "        </tr>\n",
       "        <tr>\n",
       "            <td>Robert  </td> <td>1447.23</td>\n",
       "        </tr>\n",
       "        <tr>\n",
       "            <td>William </td> <td>1357.24</td>\n",
       "        </tr>\n",
       "        <tr>\n",
       "            <td>Richard </td> <td>1150.27</td>\n",
       "        </tr>\n",
       "        <tr>\n",
       "            <td>Joseph  </td> <td>1073.57</td>\n",
       "        </tr>\n",
       "        <tr>\n",
       "            <td>Charles </td> <td>1175.32</td>\n",
       "        </tr>\n",
       "        <tr>\n",
       "            <td>Linda   </td> <td>504.24 </td>\n",
       "        </tr>\n",
       "        <tr>\n",
       "            <td>Jessica </td> <td>1397.13</td>\n",
       "        </tr>\n",
       "        <tr>\n",
       "            <td>Sarah   </td> <td>1366.23</td>\n",
       "        </tr>\n",
       "        <tr>\n",
       "            <td>Karen   </td> <td>625.12 </td>\n",
       "        </tr>\n",
       "    </tbody>\n",
       "</table>\n",
       "<p>... (1 rows omitted)</p>"
      ],
      "text/plain": [
       "customer | kWh\n",
       "John     | 1378.41\n",
       "Robert   | 1447.23\n",
       "William  | 1357.24\n",
       "Richard  | 1150.27\n",
       "Joseph   | 1073.57\n",
       "Charles  | 1175.32\n",
       "Linda    | 504.24\n",
       "Jessica  | 1397.13\n",
       "Sarah    | 1366.23\n",
       "Karen    | 625.12\n",
       "... (1 rows omitted)"
      ]
     },
     "execution_count": 83,
     "metadata": {},
     "output_type": "execute_result"
    }
   ],
   "source": [
    "#################\n",
    "energy = Table().with_columns('customer',customer_list, 'kWh', kWh_list )\n",
    "energy\n",
    "\n",
    "energylow = energy.where('kWh', are.below(sum(kWh_list)/len(kWh_list)))\n",
    "energylow\n",
    "\n",
    "#################"
   ]
  },
  {
   "cell_type": "markdown",
   "metadata": {},
   "source": [
    "$\\color{blue}{\\textit Question 3:}$ Print a personalized message to each of the customers, from Question 2, congratulating them on their energy conservation."
   ]
  },
  {
   "cell_type": "code",
   "execution_count": 87,
   "metadata": {},
   "outputs": [
    {
     "data": {
      "text/html": [
       "<table border=\"1\" class=\"dataframe\">\n",
       "    <thead>\n",
       "        <tr>\n",
       "            <th>customer</th> <th>kWh</th> <th>message</th>\n",
       "        </tr>\n",
       "    </thead>\n",
       "    <tbody>\n",
       "        <tr>\n",
       "            <td>John    </td> <td>1378.41</td> <td>Congratulations John on your energy conservation!   </td>\n",
       "        </tr>\n",
       "        <tr>\n",
       "            <td>Robert  </td> <td>1447.23</td> <td>Congratulations Robert on your energy conservation! </td>\n",
       "        </tr>\n",
       "        <tr>\n",
       "            <td>William </td> <td>1357.24</td> <td>Congratulations William on your energy conservation!</td>\n",
       "        </tr>\n",
       "        <tr>\n",
       "            <td>Richard </td> <td>1150.27</td> <td>Congratulations Richard on your energy conservation!</td>\n",
       "        </tr>\n",
       "        <tr>\n",
       "            <td>Joseph  </td> <td>1073.57</td> <td>Congratulations Joseph on your energy conservation! </td>\n",
       "        </tr>\n",
       "        <tr>\n",
       "            <td>Charles </td> <td>1175.32</td> <td>Congratulations Charles on your energy conservation!</td>\n",
       "        </tr>\n",
       "        <tr>\n",
       "            <td>Linda   </td> <td>504.24 </td> <td>Congratulations Linda on your energy conservation!  </td>\n",
       "        </tr>\n",
       "        <tr>\n",
       "            <td>Jessica </td> <td>1397.13</td> <td>Congratulations Jessica on your energy conservation!</td>\n",
       "        </tr>\n",
       "        <tr>\n",
       "            <td>Sarah   </td> <td>1366.23</td> <td>Congratulations Sarah on your energy conservation!  </td>\n",
       "        </tr>\n",
       "        <tr>\n",
       "            <td>Karen   </td> <td>625.12 </td> <td>Congratulations Karen on your energy conservation!  </td>\n",
       "        </tr>\n",
       "    </tbody>\n",
       "</table>\n",
       "<p>... (1 rows omitted)</p>"
      ],
      "text/plain": [
       "customer | kWh     | message\n",
       "John     | 1378.41 | Congratulations John on your energy conservation!\n",
       "Robert   | 1447.23 | Congratulations Robert on your energy conservation!\n",
       "William  | 1357.24 | Congratulations William on your energy conservation!\n",
       "Richard  | 1150.27 | Congratulations Richard on your energy conservation!\n",
       "Joseph   | 1073.57 | Congratulations Joseph on your energy conservation!\n",
       "Charles  | 1175.32 | Congratulations Charles on your energy conservation!\n",
       "Linda    | 504.24  | Congratulations Linda on your energy conservation!\n",
       "Jessica  | 1397.13 | Congratulations Jessica on your energy conservation!\n",
       "Sarah    | 1366.23 | Congratulations Sarah on your energy conservation!\n",
       "Karen    | 625.12  | Congratulations Karen on your energy conservation!\n",
       "... (1 rows omitted)"
      ]
     },
     "execution_count": 87,
     "metadata": {},
     "output_type": "execute_result"
    }
   ],
   "source": [
    "#################\n",
    "def congrats(x):\n",
    "    return 'Congratulations ' + x + ' on your energy conservation!'\n",
    "\n",
    "energylow = energylow.with_column('message',energylow.apply(congrats,'customer'))\n",
    "energylow\n",
    "\n",
    "#################"
   ]
  },
  {
   "cell_type": "code",
   "execution_count": null,
   "metadata": {},
   "outputs": [],
   "source": []
  }
 ],
 "metadata": {
  "kernelspec": {
   "display_name": "Python 3",
   "language": "python",
   "name": "python3"
  },
  "language_info": {
   "codemirror_mode": {
    "name": "ipython",
    "version": 3
   },
   "file_extension": ".py",
   "mimetype": "text/x-python",
   "name": "python",
   "nbconvert_exporter": "python",
   "pygments_lexer": "ipython3",
   "version": "3.7.6"
  }
 },
 "nbformat": 4,
 "nbformat_minor": 4
}
